{
  "cells": [
    {
      "cell_type": "markdown",
      "metadata": {
        "id": "view-in-github",
        "colab_type": "text"
      },
      "source": [
        "<a href=\"https://colab.research.google.com/github/prakarsh-jain/EST_Project/blob/main/Creating_clean_data.ipynb\" target=\"_parent\"><img src=\"https://colab.research.google.com/assets/colab-badge.svg\" alt=\"Open In Colab\"/></a>"
      ]
    },
    {
      "cell_type": "code",
      "source": [
        "!pip install pandas geopandas\n"
      ],
      "metadata": {
        "id": "OEmR9IXBJcTD",
        "outputId": "fcd4f84e-c380-4267-cdb5-c352e3273da9",
        "colab": {
          "base_uri": "https://localhost:8080/"
        }
      },
      "execution_count": null,
      "outputs": [
        {
          "output_type": "stream",
          "name": "stdout",
          "text": [
            "Requirement already satisfied: pandas in /usr/local/lib/python3.12/dist-packages (2.2.2)\n",
            "Requirement already satisfied: geopandas in /usr/local/lib/python3.12/dist-packages (1.1.1)\n",
            "Requirement already satisfied: numpy>=1.26.0 in /usr/local/lib/python3.12/dist-packages (from pandas) (2.0.2)\n",
            "Requirement already satisfied: python-dateutil>=2.8.2 in /usr/local/lib/python3.12/dist-packages (from pandas) (2.9.0.post0)\n",
            "Requirement already satisfied: pytz>=2020.1 in /usr/local/lib/python3.12/dist-packages (from pandas) (2025.2)\n",
            "Requirement already satisfied: tzdata>=2022.7 in /usr/local/lib/python3.12/dist-packages (from pandas) (2025.2)\n",
            "Requirement already satisfied: pyogrio>=0.7.2 in /usr/local/lib/python3.12/dist-packages (from geopandas) (0.11.1)\n",
            "Requirement already satisfied: packaging in /usr/local/lib/python3.12/dist-packages (from geopandas) (25.0)\n",
            "Requirement already satisfied: pyproj>=3.5.0 in /usr/local/lib/python3.12/dist-packages (from geopandas) (3.7.2)\n",
            "Requirement already satisfied: shapely>=2.0.0 in /usr/local/lib/python3.12/dist-packages (from geopandas) (2.1.2)\n",
            "Requirement already satisfied: certifi in /usr/local/lib/python3.12/dist-packages (from pyogrio>=0.7.2->geopandas) (2025.8.3)\n",
            "Requirement already satisfied: six>=1.5 in /usr/local/lib/python3.12/dist-packages (from python-dateutil>=2.8.2->pandas) (1.17.0)\n"
          ]
        }
      ]
    },
    {
      "cell_type": "code",
      "source": [
        "import pandas as pd\n",
        "import geopandas as gpd\n",
        "\n",
        "# --- Configuration ---\n",
        "# List of your files and the years they represent.\n",
        "# IMPORTANT: Update the filenames to match your uploaded files exactly.\n",
        "files_and_years = {\n",
        "    '/2011.geojson': 2011,\n",
        "    '/2013.geojson': 2013,\n",
        "    '/2015.geojson': 2015,\n",
        "    '/2017.geojson': 2017,\n",
        "    '/2019.geojson': 2019\n",
        "}\n",
        "\n",
        "# --- Main Script ---\n",
        "results = []\n",
        "print(\"Starting data processing...\")\n",
        "\n",
        "# The rest of the script is the same\n",
        "for file_path, year in files_and_years.items():\n",
        "    try:\n",
        "        gdf = gpd.read_file(file_path)\n",
        "        total_area = gdf['Shape_Area'].sum()\n",
        "        results.append({'Year': year, 'Total_Cover_Area_sqm': total_area})\n",
        "        print(f\"✅ Successfully processed {file_path} for year {year}. Total Area: {total_area:,.2f} sqm\")\n",
        "    except Exception as e:\n",
        "        print(f\"❌ Could not process {file_path}. Error: {e}\")\n",
        "\n",
        "if results:\n",
        "    df = pd.DataFrame(results).sort_values(by='Year').reset_index(drop=True)\n",
        "    df['Total_Cover_Area_sqkm'] = df['Total_Cover_Area_sqm'] / 1_000_000\n",
        "    df['Change_from_Previous_sqkm'] = df['Total_Cover_Area_sqkm'].diff().fillna(0)\n",
        "    df['Percent_Change'] = (df['Change_from_Previous_sqkm'] / df['Total_Cover_Area_sqkm'].shift(1) * 100).fillna(0)\n",
        "    output_df = df[['Year', 'Total_Cover_Area_sqkm', 'Change_from_Previous_sqkm', 'Percent_Change']]\n",
        "    output_df = output_df.round(3)\n",
        "    output_filename = '\\Team_XX_CleanedData.csv'\n",
        "    output_df.to_csv(output_filename, index=False)\n",
        "    print(\"\\n----- Processing Complete -----\")\n",
        "    print(f\"Cleaned data saved to: {output_filename}\")\n",
        "    print(\"\\nHere is your final data summary:\")\n",
        "    print(output_df)\n",
        "else:\n",
        "    print(\"\\nNo data was processed. Please check your file paths.\")"
      ],
      "metadata": {
        "id": "YAIVeZVZJe1G",
        "outputId": "9b320b62-6bfb-4440-d432-a4d769356111",
        "colab": {
          "base_uri": "https://localhost:8080/"
        }
      },
      "execution_count": null,
      "outputs": [
        {
          "output_type": "stream",
          "name": "stderr",
          "text": [
            "<>:36: SyntaxWarning: invalid escape sequence '\\T'\n",
            "<>:36: SyntaxWarning: invalid escape sequence '\\T'\n",
            "/tmp/ipython-input-3114740151.py:36: SyntaxWarning: invalid escape sequence '\\T'\n",
            "  output_filename = '\\Team_XX_CleanedData.csv'\n"
          ]
        },
        {
          "output_type": "stream",
          "name": "stdout",
          "text": [
            "Starting data processing...\n",
            "✅ Successfully processed /2011.geojson for year 2011. Total Area: 175,872,067.50 sqm\n",
            "✅ Successfully processed /2013.geojson for year 2013. Total Area: 181,975,937.94 sqm\n",
            "✅ Successfully processed /2015.geojson for year 2015. Total Area: 185,691,369.80 sqm\n",
            "✅ Successfully processed /2017.geojson for year 2017. Total Area: 190,737,862.54 sqm\n",
            "✅ Successfully processed /2019.geojson for year 2019. Total Area: 196,009,768.77 sqm\n",
            "\n",
            "----- Processing Complete -----\n",
            "Cleaned data saved to: \\Team_XX_CleanedData.csv\n",
            "\n",
            "Here is your final data summary:\n",
            "   Year  Total_Cover_Area_sqkm  Change_from_Previous_sqkm  Percent_Change\n",
            "0  2011                175.872                      0.000           0.000\n",
            "1  2013                181.976                      6.104           3.471\n",
            "2  2015                185.691                      3.715           2.042\n",
            "3  2017                190.738                      5.046           2.718\n",
            "4  2019                196.010                      5.272           2.764\n"
          ]
        }
      ]
    },
    {
      "cell_type": "code",
      "source": [],
      "metadata": {
        "id": "wZ2ccPmhJ1lH"
      },
      "execution_count": null,
      "outputs": []
    }
  ],
  "metadata": {
    "colab": {
      "provenance": [],
      "include_colab_link": true
    },
    "kernelspec": {
      "display_name": "Python 3",
      "name": "python3"
    }
  },
  "nbformat": 4,
  "nbformat_minor": 0
}